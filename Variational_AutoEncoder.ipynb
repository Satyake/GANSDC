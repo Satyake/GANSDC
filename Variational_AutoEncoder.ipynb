{
  "nbformat": 4,
  "nbformat_minor": 0,
  "metadata": {
    "colab": {
      "provenance": [],
      "authorship_tag": "ABX9TyMtBjI08Ky/xVWQSXLEqUqi",
      "include_colab_link": true
    },
    "kernelspec": {
      "name": "python3",
      "display_name": "Python 3"
    },
    "language_info": {
      "name": "python"
    }
  },
  "cells": [
    {
      "cell_type": "markdown",
      "metadata": {
        "id": "view-in-github",
        "colab_type": "text"
      },
      "source": [
        "<a href=\"https://colab.research.google.com/github/Satyake/GANSDC/blob/main/Variational_AutoEncoder.ipynb\" target=\"_parent\"><img src=\"https://colab.research.google.com/assets/colab-badge.svg\" alt=\"Open In Colab\"/></a>"
      ]
    },
    {
      "cell_type": "code",
      "execution_count": 1,
      "metadata": {
        "colab": {
          "base_uri": "https://localhost:8080/"
        },
        "id": "O_4i86JfGpcF",
        "outputId": "d18c7f09-de15-4950-b27f-1d42c8f2c96d"
      },
      "outputs": [
        {
          "output_type": "stream",
          "name": "stdout",
          "text": [
            "Downloading data from https://storage.googleapis.com/tensorflow/tf-keras-datasets/train-labels-idx1-ubyte.gz\n",
            "29515/29515 [==============================] - 0s 0us/step\n",
            "Downloading data from https://storage.googleapis.com/tensorflow/tf-keras-datasets/train-images-idx3-ubyte.gz\n",
            "26421880/26421880 [==============================] - 0s 0us/step\n",
            "Downloading data from https://storage.googleapis.com/tensorflow/tf-keras-datasets/t10k-labels-idx1-ubyte.gz\n",
            "5148/5148 [==============================] - 0s 0us/step\n",
            "Downloading data from https://storage.googleapis.com/tensorflow/tf-keras-datasets/t10k-images-idx3-ubyte.gz\n",
            "4422102/4422102 [==============================] - 0s 0us/step\n"
          ]
        }
      ],
      "source": [
        "#autoencoders\n",
        "import tensorflow as tf\n",
        "import os\n",
        "import random\n",
        "from tensorflow.keras.datasets import fashion_mnist\n",
        "(x_train, y_train), (x_test, y_test)=fashion_mnist.load_data()\n",
        "import numpy as np\n",
        "import tensorflow as tf\n",
        "dataset=np.concatenate([x_train, x_test], axis=0)\n",
        "dataset=np.expand_dims(dataset, -1).astype('float32')/255"
      ]
    },
    {
      "cell_type": "code",
      "source": [
        "from tensorflow import keras\n",
        "from tensorflow.keras import layers\n",
        "class SamplingLayer(layers.Layer):\n",
        "  def call(self, inputs):\n",
        "    zmean, zlogvar=inputs\n",
        "    batch=tf.shape(zmean)[0]\n",
        "    dim=tf.shape(zmean)[1]\n",
        "    epsilon=tf.keras.backend.random_normal(shape=(batch, dim))\n",
        "    return zmean+tf.exp(0.5*zlogvar)*epsilon\n"
      ],
      "metadata": {
        "id": "d70LF49tGvc7"
      },
      "execution_count": 2,
      "outputs": []
    },
    {
      "cell_type": "code",
      "source": [
        "def encoder(latentDim, encoderInputs):\n",
        "  l1=keras.models.Sequential([\n",
        "      layers.Conv2D(128,3, activation='relu', strides=2, padding='same'),\n",
        "      layers.Conv2D(64,3, activation='relu', strides=2, padding='same'),\n",
        "      layers.Flatten(),\n",
        "      layers.Dense(256, activation='relu')\n",
        "  ])\n",
        "  x=l1(encoderInputs)\n",
        "  zmean=layers.Dense(latentDim, name='zmean')(x)\n",
        "  zlogvar=layers.Dense(latentDim)(x)\n",
        "  z=SamplingLayer()([zmean, zlogvar])\n",
        "  return keras.Model(encoderInputs, [zmean, zlogvar, z], name='encoder')\n",
        "\n",
        "encoderInputs=keras.Input(shape=(28,28,1))\n",
        "encoder=encoder(2, encoderInputs)\n",
        "encoder.summary()"
      ],
      "metadata": {
        "colab": {
          "base_uri": "https://localhost:8080/"
        },
        "id": "LJ-Ip5u2GxSd",
        "outputId": "4e09519a-1c9b-47f6-f1f9-aa84872e8567"
      },
      "execution_count": 16,
      "outputs": [
        {
          "output_type": "stream",
          "name": "stdout",
          "text": [
            "Model: \"encoder\"\n",
            "__________________________________________________________________________________________________\n",
            " Layer (type)                Output Shape                 Param #   Connected to                  \n",
            "==================================================================================================\n",
            " input_3 (InputLayer)        [(None, 28, 28, 1)]          0         []                            \n",
            "                                                                                                  \n",
            " sequential_2 (Sequential)   (None, 256)                  878144    ['input_3[0][0]']             \n",
            "                                                                                                  \n",
            " zmean (Dense)               (None, 2)                    514       ['sequential_2[0][0]']        \n",
            "                                                                                                  \n",
            " dense_4 (Dense)             (None, 2)                    514       ['sequential_2[0][0]']        \n",
            "                                                                                                  \n",
            " sampling_layer_1 (Sampling  (None, 2)                    0         ['zmean[0][0]',               \n",
            " Layer)                                                              'dense_4[0][0]']             \n",
            "                                                                                                  \n",
            "==================================================================================================\n",
            "Total params: 879172 (3.35 MB)\n",
            "Trainable params: 879172 (3.35 MB)\n",
            "Non-trainable params: 0 (0.00 Byte)\n",
            "__________________________________________________________________________________________________\n"
          ]
        }
      ]
    },
    {
      "cell_type": "code",
      "source": [
        "def  decoder(latentInputs):\n",
        "  l1=keras.models.Sequential([\n",
        "      layers.Dense(7*7*64, activation='relu', input_shape=(latentInputs.shape[1],)),\n",
        "      layers.Reshape((7,7,64)),\n",
        "      layers.Conv2DTranspose(128,3,activation='relu', strides=2, padding='same'),\n",
        "      layers.Conv2DTranspose(64,3, activation='relu', strides=2, padding='same'),\n",
        "      layers.Conv2DTranspose(1,3, activation='sigmoid', padding='same')\n",
        "\n",
        "  ])\n",
        "  return keras.Model(latentInputs, l1(latentInputs), name='decoder')\n",
        "latentInputs=keras.Input(shape=(2,))\n",
        "decoder=decoder(latentInputs)\n",
        "decoder.summary()"
      ],
      "metadata": {
        "colab": {
          "base_uri": "https://localhost:8080/"
        },
        "id": "tSjLFUCbGyst",
        "outputId": "7599ebca-09fc-4c5f-b806-64517a9cfa3e"
      },
      "execution_count": 17,
      "outputs": [
        {
          "output_type": "stream",
          "name": "stdout",
          "text": [
            "Model: \"decoder\"\n",
            "_________________________________________________________________\n",
            " Layer (type)                Output Shape              Param #   \n",
            "=================================================================\n",
            " input_4 (InputLayer)        [(None, 2)]               0         \n",
            "                                                                 \n",
            " sequential_3 (Sequential)   (None, 28, 28, 1)         157633    \n",
            "                                                                 \n",
            "=================================================================\n",
            "Total params: 157633 (615.75 KB)\n",
            "Trainable params: 157633 (615.75 KB)\n",
            "Non-trainable params: 0 (0.00 Byte)\n",
            "_________________________________________________________________\n"
          ]
        }
      ]
    },
    {
      "cell_type": "code",
      "source": [
        "def reconstructionloss(data, reconstructed):\n",
        "  return tf.reduce_mean(\n",
        "      tf.reduce_sum(\n",
        "          keras.losses.binary_crossentropy(data, reconstructed), axis=(1,2)\n",
        "      )\n",
        "  )\n",
        "def kldivergence(zmean, zlogvar):\n",
        "  return tf.reduce_mean(\n",
        "      tf.reduce_sum(\n",
        "          -0.5* (1+zlogvar-tf.square(zmean)-tf.exp(zlogvar)),\n",
        "          axis=1\n",
        "      )\n",
        "  )\n",
        "def caltotalloss(data, reconstructed, zmean, zlogvar):\n",
        "  loss1=reconstructionloss(data, reconstructed)\n",
        "  loss2=kldivergence(zmean, zlogvar)\n",
        "  klweight=3.0\n",
        "  return loss1, loss2, loss1+klweight+loss2"
      ],
      "metadata": {
        "id": "z7FIb2C7G0C0"
      },
      "execution_count": 18,
      "outputs": []
    },
    {
      "cell_type": "code",
      "source": [
        "class VAE(keras.Model):\n",
        "  def __init__(self, encoder, decoder,**kwargs):\n",
        "    super(VAE, self).__init__(**kwargs)\n",
        "    self.encoder=encoder\n",
        "    self.decoder=decoder\n",
        "    self.totallosstracker=keras.metrics.Mean(name='total loss')\n",
        "    self.celosstracker=keras.metrics.Mean(name='ce loss')\n",
        "    self.kllosstracker=keras.metrics.Mean(name='kl loss')\n",
        "  @property\n",
        "  def metrics(self):\n",
        "    return [\n",
        "        self.totallosstracker,\n",
        "        self.celosstracker,\n",
        "        self.kllosstracker\n",
        "    ]\n",
        "\n",
        "  def train_step(self, data):\n",
        "\n",
        "    with tf.GradientTape() as tape:\n",
        "      zmean, zlogvar, z=self.encoder(data)\n",
        "      reconstruction=self.decoder(z)\n",
        "      celoss, klloss, totalloss=caltotalloss(data, reconstruction, zmean, zlogvar)\n",
        "\n",
        "    grads=tape.gradient(totalloss, self.trainable_weights)\n",
        "    self.optimizer.apply_gradients(zip(grads, self.trainable_weights))\n",
        "\n",
        "    self.totallosstracker.update_state(totalloss)\n",
        "    self.celosstracker.update_state(celoss)\n",
        "    self.kllosstracker.update_state(klloss)\n",
        "\n",
        "    return {\n",
        "        \"total_loss\": self.totallosstracker.result(),\n",
        "        'ce_loss': self.celosstracker.result(),\n",
        "        'kl_loss': self.kllosstracker.result()\n",
        "    }\n",
        "\n",
        "\n",
        ""
      ],
      "metadata": {
        "id": "ixWeINPeG1cB"
      },
      "execution_count": 19,
      "outputs": []
    },
    {
      "cell_type": "code",
      "source": [
        "vae=VAE(encoder, decoder)\n",
        "vae.compile(optimizer='adam')\n"
      ],
      "metadata": {
        "id": "0PGNIGV9G3yb"
      },
      "execution_count": 20,
      "outputs": []
    },
    {
      "cell_type": "code",
      "source": [
        "history=vae.fit(dataset, epochs=32, batch_size=128)"
      ],
      "metadata": {
        "colab": {
          "base_uri": "https://localhost:8080/"
        },
        "id": "Xaqr7vN6G-zX",
        "outputId": "80fd5b60-dd67-4363-a0fd-699e9391b657"
      },
      "execution_count": 21,
      "outputs": [
        {
          "output_type": "stream",
          "name": "stdout",
          "text": [
            "Epoch 1/32\n",
            "547/547 [==============================] - 264s 479ms/step - total_loss: 350.5865 - ce_loss: 342.8496 - kl_loss: 4.7368\n",
            "Epoch 2/32\n",
            "547/547 [==============================] - 266s 486ms/step - total_loss: 274.9474 - ce_loss: 266.0451 - kl_loss: 5.9021\n",
            "Epoch 3/32\n",
            "547/547 [==============================] - 258s 471ms/step - total_loss: 269.7450 - ce_loss: 260.6800 - kl_loss: 6.0649\n",
            "Epoch 4/32\n",
            "547/547 [==============================] - 272s 498ms/step - total_loss: 267.6740 - ce_loss: 258.5288 - kl_loss: 6.1452\n",
            "Epoch 5/32\n",
            "547/547 [==============================] - 278s 508ms/step - total_loss: 266.3043 - ce_loss: 257.1052 - kl_loss: 6.1991\n",
            "Epoch 6/32\n",
            "547/547 [==============================] - 257s 469ms/step - total_loss: 265.3382 - ce_loss: 256.0945 - kl_loss: 6.2438\n",
            "Epoch 7/32\n",
            "547/547 [==============================] - 266s 486ms/step - total_loss: 264.4569 - ce_loss: 255.1645 - kl_loss: 6.2924\n",
            "Epoch 8/32\n",
            "547/547 [==============================] - 261s 477ms/step - total_loss: 263.7407 - ce_loss: 254.4099 - kl_loss: 6.3309\n",
            "Epoch 9/32\n",
            "547/547 [==============================] - 264s 482ms/step - total_loss: 263.6310 - ce_loss: 254.2950 - kl_loss: 6.3360\n",
            "Epoch 10/32\n",
            "547/547 [==============================] - 263s 482ms/step - total_loss: 262.2153 - ce_loss: 252.8107 - kl_loss: 6.4045\n",
            "Epoch 11/32\n",
            "547/547 [==============================] - 265s 484ms/step - total_loss: 261.7236 - ce_loss: 252.2801 - kl_loss: 6.4436\n",
            "Epoch 12/32\n",
            "547/547 [==============================] - 265s 485ms/step - total_loss: 260.9606 - ce_loss: 251.5162 - kl_loss: 6.4444\n",
            "Epoch 13/32\n",
            "547/547 [==============================] - 262s 479ms/step - total_loss: 261.7815 - ce_loss: 252.2859 - kl_loss: 6.4955\n",
            "Epoch 14/32\n",
            "547/547 [==============================] - 266s 486ms/step - total_loss: 261.3516 - ce_loss: 251.8388 - kl_loss: 6.5128\n",
            "Epoch 15/32\n",
            "547/547 [==============================] - 264s 482ms/step - total_loss: 260.8964 - ce_loss: 251.3898 - kl_loss: 6.5066\n",
            "Epoch 16/32\n",
            "547/547 [==============================] - 267s 488ms/step - total_loss: 259.9698 - ce_loss: 250.4375 - kl_loss: 6.5324\n",
            "Epoch 17/32\n",
            "547/547 [==============================] - 263s 481ms/step - total_loss: 260.4973 - ce_loss: 250.9584 - kl_loss: 6.5389\n",
            "Epoch 18/32\n",
            "547/547 [==============================] - 265s 485ms/step - total_loss: 259.9910 - ce_loss: 250.4476 - kl_loss: 6.5433\n",
            "Epoch 19/32\n",
            "547/547 [==============================] - 270s 494ms/step - total_loss: 259.5461 - ce_loss: 249.9637 - kl_loss: 6.5823\n",
            "Epoch 20/32\n",
            "547/547 [==============================] - 267s 488ms/step - total_loss: 259.4858 - ce_loss: 249.8813 - kl_loss: 6.6045\n",
            "Epoch 21/32\n",
            "547/547 [==============================] - 269s 492ms/step - total_loss: 259.2832 - ce_loss: 249.6452 - kl_loss: 6.6381\n",
            "Epoch 22/32\n",
            "547/547 [==============================] - 280s 511ms/step - total_loss: 258.7292 - ce_loss: 249.1127 - kl_loss: 6.6164\n",
            "Epoch 23/32\n",
            "547/547 [==============================] - 278s 507ms/step - total_loss: 258.6758 - ce_loss: 249.0474 - kl_loss: 6.6284\n",
            "Epoch 24/32\n",
            "547/547 [==============================] - 265s 484ms/step - total_loss: 258.4776 - ce_loss: 248.8526 - kl_loss: 6.6250\n",
            "Epoch 25/32\n",
            "547/547 [==============================] - 262s 480ms/step - total_loss: 260.0148 - ce_loss: 250.3928 - kl_loss: 6.6219\n",
            "Epoch 26/32\n",
            "547/547 [==============================] - 261s 477ms/step - total_loss: 258.6662 - ce_loss: 249.0125 - kl_loss: 6.6537\n",
            "Epoch 27/32\n",
            "547/547 [==============================] - 262s 479ms/step - total_loss: 258.7934 - ce_loss: 249.1371 - kl_loss: 6.6563\n",
            "Epoch 28/32\n",
            "547/547 [==============================] - 262s 479ms/step - total_loss: 257.8298 - ce_loss: 248.1679 - kl_loss: 6.6619\n",
            "Epoch 29/32\n",
            "547/547 [==============================] - 261s 477ms/step - total_loss: 257.5544 - ce_loss: 247.8762 - kl_loss: 6.6781\n",
            "Epoch 30/32\n",
            "547/547 [==============================] - 263s 480ms/step - total_loss: 258.0001 - ce_loss: 248.3017 - kl_loss: 6.6984\n",
            "Epoch 31/32\n",
            "547/547 [==============================] - 263s 480ms/step - total_loss: 257.6527 - ce_loss: 247.9567 - kl_loss: 6.6960\n",
            "Epoch 32/32\n",
            "547/547 [==============================] - 263s 481ms/step - total_loss: 257.7528 - ce_loss: 248.0434 - kl_loss: 6.7094\n"
          ]
        }
      ]
    },
    {
      "cell_type": "code",
      "source": [
        "import matplotlib.pyplot as plt\n",
        "synth=vae.decoder.predict([[1,2]]) #prob dist of 1 and 2  u =1 sd =2\n",
        "plt.axis('off')\n",
        "plt.imshow(synth.reshape)"
      ],
      "metadata": {
        "colab": {
          "base_uri": "https://localhost:8080/",
          "height": 728
        },
        "id": "eMY2V62zLr3H",
        "outputId": "862b1e1c-54a7-4ec8-ad86-3a17ffd557f2"
      },
      "execution_count": 22,
      "outputs": [
        {
          "output_type": "stream",
          "name": "stdout",
          "text": [
            "1/1 [==============================] - 0s 215ms/step\n"
          ]
        },
        {
          "output_type": "error",
          "ename": "TypeError",
          "evalue": "Image data of dtype object cannot be converted to float",
          "traceback": [
            "\u001b[0;31m---------------------------------------------------------------------------\u001b[0m",
            "\u001b[0;31mTypeError\u001b[0m                                 Traceback (most recent call last)",
            "\u001b[0;32m<ipython-input-22-ba4b4b44e053>\u001b[0m in \u001b[0;36m<cell line: 4>\u001b[0;34m()\u001b[0m\n\u001b[1;32m      2\u001b[0m \u001b[0msynth\u001b[0m\u001b[0;34m=\u001b[0m\u001b[0mvae\u001b[0m\u001b[0;34m.\u001b[0m\u001b[0mdecoder\u001b[0m\u001b[0;34m.\u001b[0m\u001b[0mpredict\u001b[0m\u001b[0;34m(\u001b[0m\u001b[0;34m[\u001b[0m\u001b[0;34m[\u001b[0m\u001b[0;36m1\u001b[0m\u001b[0;34m,\u001b[0m\u001b[0;36m2\u001b[0m\u001b[0;34m]\u001b[0m\u001b[0;34m]\u001b[0m\u001b[0;34m)\u001b[0m \u001b[0;31m#prob dist of 1 and 2  u =1 sd =2\u001b[0m\u001b[0;34m\u001b[0m\u001b[0;34m\u001b[0m\u001b[0m\n\u001b[1;32m      3\u001b[0m \u001b[0mplt\u001b[0m\u001b[0;34m.\u001b[0m\u001b[0maxis\u001b[0m\u001b[0;34m(\u001b[0m\u001b[0;34m'off'\u001b[0m\u001b[0;34m)\u001b[0m\u001b[0;34m\u001b[0m\u001b[0;34m\u001b[0m\u001b[0m\n\u001b[0;32m----> 4\u001b[0;31m \u001b[0mplt\u001b[0m\u001b[0;34m.\u001b[0m\u001b[0mimshow\u001b[0m\u001b[0;34m(\u001b[0m\u001b[0msynth\u001b[0m\u001b[0;34m.\u001b[0m\u001b[0mreshape\u001b[0m\u001b[0;34m)\u001b[0m\u001b[0;34m\u001b[0m\u001b[0;34m\u001b[0m\u001b[0m\n\u001b[0m",
            "\u001b[0;32m/usr/local/lib/python3.10/dist-packages/matplotlib/pyplot.py\u001b[0m in \u001b[0;36mimshow\u001b[0;34m(X, cmap, norm, aspect, interpolation, alpha, vmin, vmax, origin, extent, interpolation_stage, filternorm, filterrad, resample, url, data, **kwargs)\u001b[0m\n\u001b[1;32m   2693\u001b[0m         \u001b[0minterpolation_stage\u001b[0m\u001b[0;34m=\u001b[0m\u001b[0;32mNone\u001b[0m\u001b[0;34m,\u001b[0m \u001b[0mfilternorm\u001b[0m\u001b[0;34m=\u001b[0m\u001b[0;32mTrue\u001b[0m\u001b[0;34m,\u001b[0m \u001b[0mfilterrad\u001b[0m\u001b[0;34m=\u001b[0m\u001b[0;36m4.0\u001b[0m\u001b[0;34m,\u001b[0m\u001b[0;34m\u001b[0m\u001b[0;34m\u001b[0m\u001b[0m\n\u001b[1;32m   2694\u001b[0m         resample=None, url=None, data=None, **kwargs):\n\u001b[0;32m-> 2695\u001b[0;31m     __ret = gca().imshow(\n\u001b[0m\u001b[1;32m   2696\u001b[0m         \u001b[0mX\u001b[0m\u001b[0;34m,\u001b[0m \u001b[0mcmap\u001b[0m\u001b[0;34m=\u001b[0m\u001b[0mcmap\u001b[0m\u001b[0;34m,\u001b[0m \u001b[0mnorm\u001b[0m\u001b[0;34m=\u001b[0m\u001b[0mnorm\u001b[0m\u001b[0;34m,\u001b[0m \u001b[0maspect\u001b[0m\u001b[0;34m=\u001b[0m\u001b[0maspect\u001b[0m\u001b[0;34m,\u001b[0m\u001b[0;34m\u001b[0m\u001b[0;34m\u001b[0m\u001b[0m\n\u001b[1;32m   2697\u001b[0m         \u001b[0minterpolation\u001b[0m\u001b[0;34m=\u001b[0m\u001b[0minterpolation\u001b[0m\u001b[0;34m,\u001b[0m \u001b[0malpha\u001b[0m\u001b[0;34m=\u001b[0m\u001b[0malpha\u001b[0m\u001b[0;34m,\u001b[0m \u001b[0mvmin\u001b[0m\u001b[0;34m=\u001b[0m\u001b[0mvmin\u001b[0m\u001b[0;34m,\u001b[0m\u001b[0;34m\u001b[0m\u001b[0;34m\u001b[0m\u001b[0m\n",
            "\u001b[0;32m/usr/local/lib/python3.10/dist-packages/matplotlib/__init__.py\u001b[0m in \u001b[0;36minner\u001b[0;34m(ax, data, *args, **kwargs)\u001b[0m\n\u001b[1;32m   1440\u001b[0m     \u001b[0;32mdef\u001b[0m \u001b[0minner\u001b[0m\u001b[0;34m(\u001b[0m\u001b[0max\u001b[0m\u001b[0;34m,\u001b[0m \u001b[0;34m*\u001b[0m\u001b[0margs\u001b[0m\u001b[0;34m,\u001b[0m \u001b[0mdata\u001b[0m\u001b[0;34m=\u001b[0m\u001b[0;32mNone\u001b[0m\u001b[0;34m,\u001b[0m \u001b[0;34m**\u001b[0m\u001b[0mkwargs\u001b[0m\u001b[0;34m)\u001b[0m\u001b[0;34m:\u001b[0m\u001b[0;34m\u001b[0m\u001b[0;34m\u001b[0m\u001b[0m\n\u001b[1;32m   1441\u001b[0m         \u001b[0;32mif\u001b[0m \u001b[0mdata\u001b[0m \u001b[0;32mis\u001b[0m \u001b[0;32mNone\u001b[0m\u001b[0;34m:\u001b[0m\u001b[0;34m\u001b[0m\u001b[0;34m\u001b[0m\u001b[0m\n\u001b[0;32m-> 1442\u001b[0;31m             \u001b[0;32mreturn\u001b[0m \u001b[0mfunc\u001b[0m\u001b[0;34m(\u001b[0m\u001b[0max\u001b[0m\u001b[0;34m,\u001b[0m \u001b[0;34m*\u001b[0m\u001b[0mmap\u001b[0m\u001b[0;34m(\u001b[0m\u001b[0msanitize_sequence\u001b[0m\u001b[0;34m,\u001b[0m \u001b[0margs\u001b[0m\u001b[0;34m)\u001b[0m\u001b[0;34m,\u001b[0m \u001b[0;34m**\u001b[0m\u001b[0mkwargs\u001b[0m\u001b[0;34m)\u001b[0m\u001b[0;34m\u001b[0m\u001b[0;34m\u001b[0m\u001b[0m\n\u001b[0m\u001b[1;32m   1443\u001b[0m \u001b[0;34m\u001b[0m\u001b[0m\n\u001b[1;32m   1444\u001b[0m         \u001b[0mbound\u001b[0m \u001b[0;34m=\u001b[0m \u001b[0mnew_sig\u001b[0m\u001b[0;34m.\u001b[0m\u001b[0mbind\u001b[0m\u001b[0;34m(\u001b[0m\u001b[0max\u001b[0m\u001b[0;34m,\u001b[0m \u001b[0;34m*\u001b[0m\u001b[0margs\u001b[0m\u001b[0;34m,\u001b[0m \u001b[0;34m**\u001b[0m\u001b[0mkwargs\u001b[0m\u001b[0;34m)\u001b[0m\u001b[0;34m\u001b[0m\u001b[0;34m\u001b[0m\u001b[0m\n",
            "\u001b[0;32m/usr/local/lib/python3.10/dist-packages/matplotlib/axes/_axes.py\u001b[0m in \u001b[0;36mimshow\u001b[0;34m(self, X, cmap, norm, aspect, interpolation, alpha, vmin, vmax, origin, extent, interpolation_stage, filternorm, filterrad, resample, url, **kwargs)\u001b[0m\n\u001b[1;32m   5663\u001b[0m                               **kwargs)\n\u001b[1;32m   5664\u001b[0m \u001b[0;34m\u001b[0m\u001b[0m\n\u001b[0;32m-> 5665\u001b[0;31m         \u001b[0mim\u001b[0m\u001b[0;34m.\u001b[0m\u001b[0mset_data\u001b[0m\u001b[0;34m(\u001b[0m\u001b[0mX\u001b[0m\u001b[0;34m)\u001b[0m\u001b[0;34m\u001b[0m\u001b[0;34m\u001b[0m\u001b[0m\n\u001b[0m\u001b[1;32m   5666\u001b[0m         \u001b[0mim\u001b[0m\u001b[0;34m.\u001b[0m\u001b[0mset_alpha\u001b[0m\u001b[0;34m(\u001b[0m\u001b[0malpha\u001b[0m\u001b[0;34m)\u001b[0m\u001b[0;34m\u001b[0m\u001b[0;34m\u001b[0m\u001b[0m\n\u001b[1;32m   5667\u001b[0m         \u001b[0;32mif\u001b[0m \u001b[0mim\u001b[0m\u001b[0;34m.\u001b[0m\u001b[0mget_clip_path\u001b[0m\u001b[0;34m(\u001b[0m\u001b[0;34m)\u001b[0m \u001b[0;32mis\u001b[0m \u001b[0;32mNone\u001b[0m\u001b[0;34m:\u001b[0m\u001b[0;34m\u001b[0m\u001b[0;34m\u001b[0m\u001b[0m\n",
            "\u001b[0;32m/usr/local/lib/python3.10/dist-packages/matplotlib/image.py\u001b[0m in \u001b[0;36mset_data\u001b[0;34m(self, A)\u001b[0m\n\u001b[1;32m    699\u001b[0m         if (self._A.dtype != np.uint8 and\n\u001b[1;32m    700\u001b[0m                 not np.can_cast(self._A.dtype, float, \"same_kind\")):\n\u001b[0;32m--> 701\u001b[0;31m             raise TypeError(\"Image data of dtype {} cannot be converted to \"\n\u001b[0m\u001b[1;32m    702\u001b[0m                             \"float\".format(self._A.dtype))\n\u001b[1;32m    703\u001b[0m \u001b[0;34m\u001b[0m\u001b[0m\n",
            "\u001b[0;31mTypeError\u001b[0m: Image data of dtype object cannot be converted to float"
          ]
        },
        {
          "output_type": "display_data",
          "data": {
            "text/plain": [
              "<Figure size 640x480 with 1 Axes>"
            ],
            "image/png": "[encoded data removed]"
          },
          "metadata": {}
        }
      ]
    },
    {
      "cell_type": "code",
      "source": [
        "!pip install --upgrade tensorflow\n"
      ],
      "metadata": {
        "colab": {
          "base_uri": "https://localhost:8080/",
          "height": 1000
        },
        "id": "03GDNYnxHQk7",
        "outputId": "40bfcb7b-68b6-4b1f-ee78-89db4115f270"
      },
      "execution_count": 14,
      "outputs": [
        {
          "output_type": "stream",
          "name": "stdout",
          "text": [
            "Requirement already satisfied: tensorflow in /usr/local/lib/python3.10/dist-packages (2.15.0)\n",
            "Collecting tensorflow\n",
            "  Downloading tensorflow-2.15.0.post1-cp310-cp310-manylinux_2_17_x86_64.manylinux2014_x86_64.whl (475.2 MB)\n",
            "\u001b[2K     \u001b[90m━━━━━━━━━━━━━━━━━━━━━━━━━━━━━━━━━━━━━━━━\u001b[0m \u001b[32m475.2/475.2 MB\u001b[0m \u001b[31m855.9 kB/s\u001b[0m eta \u001b[36m0:00:00\u001b[0m\n",
            "\u001b[?25hRequirement already satisfied: absl-py>=1.0.0 in /usr/local/lib/python3.10/dist-packages (from tensorflow) (1.4.0)\n",
            "Requirement already satisfied: astunparse>=1.6.0 in /usr/local/lib/python3.10/dist-packages (from tensorflow) (1.6.3)\n",
            "Requirement already satisfied: flatbuffers>=23.5.26 in /usr/local/lib/python3.10/dist-packages (from tensorflow) (23.5.26)\n",
            "Requirement already satisfied: gast!=0.5.0,!=0.5.1,!=0.5.2,>=0.2.1 in /usr/local/lib/python3.10/dist-packages (from tensorflow) (0.5.4)\n",
            "Requirement already satisfied: google-pasta>=0.1.1 in /usr/local/lib/python3.10/dist-packages (from tensorflow) (0.2.0)\n",
            "Requirement already satisfied: h5py>=2.9.0 in /usr/local/lib/python3.10/dist-packages (from tensorflow) (3.9.0)\n",
            "Requirement already satisfied: libclang>=13.0.0 in /usr/local/lib/python3.10/dist-packages (from tensorflow) (16.0.6)\n",
            "Requirement already satisfied: ml-dtypes~=0.2.0 in /usr/local/lib/python3.10/dist-packages (from tensorflow) (0.2.0)\n",
            "Requirement already satisfied: numpy<2.0.0,>=1.23.5 in /usr/local/lib/python3.10/dist-packages (from tensorflow) (1.25.2)\n",
            "Requirement already satisfied: opt-einsum>=2.3.2 in /usr/local/lib/python3.10/dist-packages (from tensorflow) (3.3.0)\n",
            "Requirement already satisfied: packaging in /usr/local/lib/python3.10/dist-packages (from tensorflow) (23.2)\n",
            "Requirement already satisfied: protobuf!=4.21.0,!=4.21.1,!=4.21.2,!=4.21.3,!=4.21.4,!=4.21.5,<5.0.0dev,>=3.20.3 in /usr/local/lib/python3.10/dist-packages (from tensorflow) (3.20.3)\n",
            "Requirement already satisfied: setuptools in /usr/local/lib/python3.10/dist-packages (from tensorflow) (67.7.2)\n",
            "Requirement already satisfied: six>=1.12.0 in /usr/local/lib/python3.10/dist-packages (from tensorflow) (1.16.0)\n",
            "Requirement already satisfied: termcolor>=1.1.0 in /usr/local/lib/python3.10/dist-packages (from tensorflow) (2.4.0)\n",
            "Requirement already satisfied: typing-extensions>=3.6.6 in /usr/local/lib/python3.10/dist-packages (from tensorflow) (4.9.0)\n",
            "Requirement already satisfied: wrapt<1.15,>=1.11.0 in /usr/local/lib/python3.10/dist-packages (from tensorflow) (1.14.1)\n",
            "Requirement already satisfied: tensorflow-io-gcs-filesystem>=0.23.1 in /usr/local/lib/python3.10/dist-packages (from tensorflow) (0.36.0)\n",
            "Requirement already satisfied: grpcio<2.0,>=1.24.3 in /usr/local/lib/python3.10/dist-packages (from tensorflow) (1.60.1)\n",
            "Requirement already satisfied: tensorboard<2.16,>=2.15 in /usr/local/lib/python3.10/dist-packages (from tensorflow) (2.15.2)\n",
            "Requirement already satisfied: tensorflow-estimator<2.16,>=2.15.0 in /usr/local/lib/python3.10/dist-packages (from tensorflow) (2.15.0)\n",
            "Requirement already satisfied: keras<2.16,>=2.15.0 in /usr/local/lib/python3.10/dist-packages (from tensorflow) (2.15.0)\n",
            "Requirement already satisfied: wheel<1.0,>=0.23.0 in /usr/local/lib/python3.10/dist-packages (from astunparse>=1.6.0->tensorflow) (0.42.0)\n",
            "Requirement already satisfied: google-auth<3,>=1.6.3 in /usr/local/lib/python3.10/dist-packages (from tensorboard<2.16,>=2.15->tensorflow) (2.27.0)\n",
            "Requirement already satisfied: google-auth-oauthlib<2,>=0.5 in /usr/local/lib/python3.10/dist-packages (from tensorboard<2.16,>=2.15->tensorflow) (1.2.0)\n",
            "Requirement already satisfied: markdown>=2.6.8 in /usr/local/lib/python3.10/dist-packages (from tensorboard<2.16,>=2.15->tensorflow) (3.5.2)\n",
            "Requirement already satisfied: requests<3,>=2.21.0 in /usr/local/lib/python3.10/dist-packages (from tensorboard<2.16,>=2.15->tensorflow) (2.31.0)\n",
            "Requirement already satisfied: tensorboard-data-server<0.8.0,>=0.7.0 in /usr/local/lib/python3.10/dist-packages (from tensorboard<2.16,>=2.15->tensorflow) (0.7.2)\n",
            "Requirement already satisfied: werkzeug>=1.0.1 in /usr/local/lib/python3.10/dist-packages (from tensorboard<2.16,>=2.15->tensorflow) (3.0.1)\n",
            "Requirement already satisfied: cachetools<6.0,>=2.0.0 in /usr/local/lib/python3.10/dist-packages (from google-auth<3,>=1.6.3->tensorboard<2.16,>=2.15->tensorflow) (5.3.2)\n",
            "Requirement already satisfied: pyasn1-modules>=0.2.1 in /usr/local/lib/python3.10/dist-packages (from google-auth<3,>=1.6.3->tensorboard<2.16,>=2.15->tensorflow) (0.3.0)\n",
            "Requirement already satisfied: rsa<5,>=3.1.4 in /usr/local/lib/python3.10/dist-packages (from google-auth<3,>=1.6.3->tensorboard<2.16,>=2.15->tensorflow) (4.9)\n",
            "Requirement already satisfied: requests-oauthlib>=0.7.0 in /usr/local/lib/python3.10/dist-packages (from google-auth-oauthlib<2,>=0.5->tensorboard<2.16,>=2.15->tensorflow) (1.3.1)\n",
            "Requirement already satisfied: charset-normalizer<4,>=2 in /usr/local/lib/python3.10/dist-packages (from requests<3,>=2.21.0->tensorboard<2.16,>=2.15->tensorflow) (3.3.2)\n",
            "Requirement already satisfied: idna<4,>=2.5 in /usr/local/lib/python3.10/dist-packages (from requests<3,>=2.21.0->tensorboard<2.16,>=2.15->tensorflow) (3.6)\n",
            "Requirement already satisfied: urllib3<3,>=1.21.1 in /usr/local/lib/python3.10/dist-packages (from requests<3,>=2.21.0->tensorboard<2.16,>=2.15->tensorflow) (2.0.7)\n",
            "Requirement already satisfied: certifi>=2017.4.17 in /usr/local/lib/python3.10/dist-packages (from requests<3,>=2.21.0->tensorboard<2.16,>=2.15->tensorflow) (2024.2.2)\n",
            "Requirement already satisfied: MarkupSafe>=2.1.1 in /usr/local/lib/python3.10/dist-packages (from werkzeug>=1.0.1->tensorboard<2.16,>=2.15->tensorflow) (2.1.5)\n",
            "Requirement already satisfied: pyasn1<0.6.0,>=0.4.6 in /usr/local/lib/python3.10/dist-packages (from pyasn1-modules>=0.2.1->google-auth<3,>=1.6.3->tensorboard<2.16,>=2.15->tensorflow) (0.5.1)\n",
            "Requirement already satisfied: oauthlib>=3.0.0 in /usr/local/lib/python3.10/dist-packages (from requests-oauthlib>=0.7.0->google-auth-oauthlib<2,>=0.5->tensorboard<2.16,>=2.15->tensorflow) (3.2.2)\n",
            "Installing collected packages: tensorflow\n",
            "  Attempting uninstall: tensorflow\n",
            "    Found existing installation: tensorflow 2.15.0\n",
            "    Uninstalling tensorflow-2.15.0:\n",
            "      Successfully uninstalled tensorflow-2.15.0\n",
            "Successfully installed tensorflow-2.15.0.post1\n"
          ]
        },
        {
          "output_type": "display_data",
          "data": {
            "application/vnd.colab-display-data+json": {
              "pip_warning": {
                "packages": [
                  "tensorflow"
                ]
              }
            }
          },
          "metadata": {}
        }
      ]
    },
    {
      "cell_type": "code",
      "source": [
        "import tensorflow as tf\n"
      ],
      "metadata": {
        "id": "sDLVGxY1IBSy"
      },
      "execution_count": 1,
      "outputs": []
    },
    {
      "cell_type": "code",
      "source": [
        "encoding_dim=32"
      ],
      "metadata": {
        "id": "pVvOCjpuNMJI"
      },
      "execution_count": 2,
      "outputs": []
    },
    {
      "cell_type": "code",
      "source": [
        "input_img=tf.keras.layers.Input(shape=(784,))\n",
        "encoded=tf.keras.layers.Dense(encoding_dim, activation='relu')(input_img)\n",
        "decoded=tf.keras.layers.Dense(784, activation='sigmoid')(encoded)\n",
        "autoencoder=tf.keras.Model(inputs=input_img, outputs=decoded)"
      ],
      "metadata": {
        "id": "jWmZ0ci7NOGK"
      },
      "execution_count": 94,
      "outputs": []
    },
    {
      "cell_type": "code",
      "source": [
        "#seperate encoder\n",
        "encoder=tf.keras.Model(input_img, encoded)"
      ],
      "metadata": {
        "id": "e5U6Hus1Nkxs"
      },
      "execution_count": 95,
      "outputs": []
    },
    {
      "cell_type": "code",
      "source": [
        "#seperate decoder\n",
        "encoder_input=tf.keras.layers.Input(shape=(encoding_dim,))\n",
        "decoder_layer=autoencoder.layers[-1]\n",
        "decoder=tf.keras.Model(encoder_input, decoder_layer(encoder_input))"
      ],
      "metadata": {
        "id": "z0RreXuKNrnn"
      },
      "execution_count": 96,
      "outputs": []
    },
    {
      "cell_type": "code",
      "source": [
        "autoencoder.compile(optimizer='adam', loss='binary_crossentropy')"
      ],
      "metadata": {
        "id": "0SIpi3nLN_Ei"
      },
      "execution_count": 97,
      "outputs": []
    },
    {
      "cell_type": "code",
      "source": [
        "from keras.datasets import mnist\n",
        "import numpy as np\n",
        "(x_train,_),(x_test,_)=mnist.load_data()"
      ],
      "metadata": {
        "id": "ybsvbZOfOPtp"
      },
      "execution_count": 98,
      "outputs": []
    },
    {
      "cell_type": "code",
      "source": [
        "x_train=x_train.astype('float32')/255.0\n",
        "x_test=x_test.astype('float32')/255.0\n",
        "#x_train = x_train.reshape((len(x_train), np.prod(x_train.shape[1:])))\n",
        "#x_test = x_test.reshape((len(x_test), np.prod(x_test.shape[1:])))\n",
        "x_train.shape"
      ],
      "metadata": {
        "colab": {
          "base_uri": "https://localhost:8080/"
        },
        "id": "XF8ImO3bQvGX",
        "outputId": "a82e4230-94c6-4655-b54e-55338c8a099c"
      },
      "execution_count": 99,
      "outputs": [
        {
          "output_type": "execute_result",
          "data": {
            "text/plain": [
              "(60000, 28, 28)"
            ]
          },
          "metadata": {},
          "execution_count": 99
        }
      ]
    },
    {
      "cell_type": "code",
      "source": [
        "x_test=x_test.reshape(len(x_test),784)"
      ],
      "metadata": {
        "id": "yj7G5GNHWV1e"
      },
      "execution_count": 100,
      "outputs": []
    },
    {
      "cell_type": "code",
      "source": [
        "x_train=x_train.reshape(len(x_train),784)"
      ],
      "metadata": {
        "id": "J3dvHx5bWfDk"
      },
      "execution_count": 101,
      "outputs": []
    },
    {
      "cell_type": "code",
      "source": [
        "x_test.shape"
      ],
      "metadata": {
        "colab": {
          "base_uri": "https://localhost:8080/"
        },
        "id": "8dQcL8RnV--T",
        "outputId": "d4740b16-f0cf-42b9-9ac8-987ed8e04cb8"
      },
      "execution_count": 102,
      "outputs": [
        {
          "output_type": "execute_result",
          "data": {
            "text/plain": [
              "(10000, 784)"
            ]
          },
          "metadata": {},
          "execution_count": 102
        }
      ]
    },
    {
      "cell_type": "code",
      "source": [
        "#x_train=np.expand_dims(x_train,axis=-)"
      ],
      "metadata": {
        "id": "li9jNED1Q2Eo"
      },
      "execution_count": 103,
      "outputs": []
    },
    {
      "cell_type": "code",
      "source": [
        "print(x_train.shape)\n",
        "print(x_test.shape)"
      ],
      "metadata": {
        "colab": {
          "base_uri": "https://localhost:8080/"
        },
        "id": "kGG-mlygQ55B",
        "outputId": "9233ebd9-5ba4-447d-b756-808d1380392a"
      },
      "execution_count": 104,
      "outputs": [
        {
          "output_type": "stream",
          "name": "stdout",
          "text": [
            "(60000, 784)\n",
            "(10000, 784)\n"
          ]
        }
      ]
    },
    {
      "cell_type": "code",
      "source": [
        "x_test=np.expand_dims(x_train,axis=-1)"
      ],
      "metadata": {
        "id": "4R8IH6SeQ6s9"
      },
      "execution_count": 38,
      "outputs": []
    },
    {
      "cell_type": "code",
      "source": [
        "autoencoder.fit(x_train,x_train,\n",
        "                epochs=50, batch_size=200,shuffle=True, validation_data=(x_test, x_test))"
      ],
      "metadata": {
        "colab": {
          "base_uri": "https://localhost:8080/"
        },
        "id": "JHy1VXeyQ9TX",
        "outputId": "571ad24b-ab24-422d-8bfb-6ea74bb4ca4d"
      },
      "execution_count": 105,
      "outputs": [
        {
          "output_type": "stream",
          "name": "stdout",
          "text": [
            "Epoch 1/50\n",
            "300/300 [==============================] - 3s 9ms/step - loss: 0.2605 - val_loss: 0.1808\n",
            "Epoch 2/50\n",
            "300/300 [==============================] - 3s 9ms/step - loss: 0.1604 - val_loss: 0.1425\n",
            "Epoch 3/50\n",
            "300/300 [==============================] - 5s 16ms/step - loss: 0.1337 - val_loss: 0.1240\n",
            "Epoch 4/50\n",
            "300/300 [==============================] - 5s 15ms/step - loss: 0.1197 - val_loss: 0.1132\n",
            "Epoch 5/50\n",
            "300/300 [==============================] - 3s 9ms/step - loss: 0.1112 - val_loss: 0.1067\n",
            "Epoch 6/50\n",
            "300/300 [==============================] - 3s 9ms/step - loss: 0.1053 - val_loss: 0.1016\n",
            "Epoch 7/50\n",
            "300/300 [==============================] - 3s 11ms/step - loss: 0.1012 - val_loss: 0.0982\n",
            "Epoch 8/50\n",
            "300/300 [==============================] - 3s 11ms/step - loss: 0.0983 - val_loss: 0.0960\n",
            "Epoch 9/50\n",
            "300/300 [==============================] - 2s 8ms/step - loss: 0.0966 - val_loss: 0.0947\n",
            "Epoch 10/50\n",
            "300/300 [==============================] - 3s 9ms/step - loss: 0.0955 - val_loss: 0.0938\n",
            "Epoch 11/50\n",
            "300/300 [==============================] - 4s 12ms/step - loss: 0.0949 - val_loss: 0.0933\n",
            "Epoch 12/50\n",
            "300/300 [==============================] - 3s 9ms/step - loss: 0.0945 - val_loss: 0.0930\n",
            "Epoch 13/50\n",
            "300/300 [==============================] - 3s 8ms/step - loss: 0.0942 - val_loss: 0.0929\n",
            "Epoch 14/50\n",
            "300/300 [==============================] - 3s 9ms/step - loss: 0.0940 - val_loss: 0.0927\n",
            "Epoch 15/50\n",
            "300/300 [==============================] - 3s 10ms/step - loss: 0.0939 - val_loss: 0.0925\n",
            "Epoch 16/50\n",
            "300/300 [==============================] - 3s 11ms/step - loss: 0.0937 - val_loss: 0.0924\n",
            "Epoch 17/50\n",
            "300/300 [==============================] - 3s 9ms/step - loss: 0.0936 - val_loss: 0.0922\n",
            "Epoch 18/50\n",
            "300/300 [==============================] - 3s 9ms/step - loss: 0.0935 - val_loss: 0.0922\n",
            "Epoch 19/50\n",
            "300/300 [==============================] - 3s 9ms/step - loss: 0.0934 - val_loss: 0.0923\n",
            "Epoch 20/50\n",
            "300/300 [==============================] - 4s 13ms/step - loss: 0.0934 - val_loss: 0.0921\n",
            "Epoch 21/50\n",
            "300/300 [==============================] - 3s 10ms/step - loss: 0.0933 - val_loss: 0.0920\n",
            "Epoch 22/50\n",
            "300/300 [==============================] - 3s 9ms/step - loss: 0.0933 - val_loss: 0.0920\n",
            "Epoch 23/50\n",
            "300/300 [==============================] - 3s 9ms/step - loss: 0.0932 - val_loss: 0.0920\n",
            "Epoch 24/50\n",
            "300/300 [==============================] - 4s 13ms/step - loss: 0.0932 - val_loss: 0.0919\n",
            "Epoch 25/50\n",
            "300/300 [==============================] - 3s 9ms/step - loss: 0.0931 - val_loss: 0.0918\n",
            "Epoch 26/50\n",
            "300/300 [==============================] - 3s 10ms/step - loss: 0.0931 - val_loss: 0.0919\n",
            "Epoch 27/50\n",
            "300/300 [==============================] - 3s 9ms/step - loss: 0.0931 - val_loss: 0.0918\n",
            "Epoch 28/50\n",
            "300/300 [==============================] - 4s 12ms/step - loss: 0.0930 - val_loss: 0.0918\n",
            "Epoch 29/50\n",
            "300/300 [==============================] - 3s 10ms/step - loss: 0.0930 - val_loss: 0.0918\n",
            "Epoch 30/50\n",
            "300/300 [==============================] - 4s 12ms/step - loss: 0.0930 - val_loss: 0.0918\n",
            "Epoch 31/50\n",
            "300/300 [==============================] - 4s 12ms/step - loss: 0.0930 - val_loss: 0.0917\n",
            "Epoch 32/50\n",
            "300/300 [==============================] - 5s 18ms/step - loss: 0.0929 - val_loss: 0.0917\n",
            "Epoch 33/50\n",
            "300/300 [==============================] - 3s 11ms/step - loss: 0.0929 - val_loss: 0.0918\n",
            "Epoch 34/50\n",
            "300/300 [==============================] - 6s 21ms/step - loss: 0.0929 - val_loss: 0.0917\n",
            "Epoch 35/50\n",
            "300/300 [==============================] - 6s 19ms/step - loss: 0.0929 - val_loss: 0.0917\n",
            "Epoch 36/50\n",
            "300/300 [==============================] - 5s 16ms/step - loss: 0.0928 - val_loss: 0.0917\n",
            "Epoch 37/50\n",
            "300/300 [==============================] - 5s 16ms/step - loss: 0.0928 - val_loss: 0.0916\n",
            "Epoch 38/50\n",
            "300/300 [==============================] - 5s 18ms/step - loss: 0.0928 - val_loss: 0.0917\n",
            "Epoch 39/50\n",
            "300/300 [==============================] - 4s 15ms/step - loss: 0.0928 - val_loss: 0.0915\n",
            "Epoch 40/50\n",
            "300/300 [==============================] - 4s 12ms/step - loss: 0.0928 - val_loss: 0.0916\n",
            "Epoch 41/50\n",
            "300/300 [==============================] - 3s 10ms/step - loss: 0.0928 - val_loss: 0.0915\n",
            "Epoch 42/50\n",
            "300/300 [==============================] - 3s 9ms/step - loss: 0.0927 - val_loss: 0.0916\n",
            "Epoch 43/50\n",
            "300/300 [==============================] - 3s 9ms/step - loss: 0.0927 - val_loss: 0.0916\n",
            "Epoch 44/50\n",
            "300/300 [==============================] - 3s 10ms/step - loss: 0.0927 - val_loss: 0.0916\n",
            "Epoch 45/50\n",
            "300/300 [==============================] - 3s 11ms/step - loss: 0.0927 - val_loss: 0.0915\n",
            "Epoch 46/50\n",
            "300/300 [==============================] - 3s 10ms/step - loss: 0.0927 - val_loss: 0.0916\n",
            "Epoch 47/50\n",
            "300/300 [==============================] - 3s 9ms/step - loss: 0.0927 - val_loss: 0.0915\n",
            "Epoch 48/50\n",
            "300/300 [==============================] - 3s 10ms/step - loss: 0.0926 - val_loss: 0.0914\n",
            "Epoch 49/50\n",
            "300/300 [==============================] - 4s 13ms/step - loss: 0.0926 - val_loss: 0.0914\n",
            "Epoch 50/50\n",
            "300/300 [==============================] - 3s 9ms/step - loss: 0.0926 - val_loss: 0.0915\n"
          ]
        },
        {
          "output_type": "execute_result",
          "data": {
            "text/plain": [
              "<keras.src.callbacks.History at 0x7b3c65eb4d60>"
            ]
          },
          "metadata": {},
          "execution_count": 105
        }
      ]
    },
    {
      "cell_type": "code",
      "source": [
        "x_train = x_train.reshape((len(x_train), np.prod(x_train.shape[1:])))"
      ],
      "metadata": {
        "id": "JMxsKih6RH_D"
      },
      "execution_count": 55,
      "outputs": []
    },
    {
      "cell_type": "code",
      "source": [
        "x_train.shape"
      ],
      "metadata": {
        "colab": {
          "base_uri": "https://localhost:8080/"
        },
        "id": "LkShHKeCRSjy",
        "outputId": "494a6446-6405-49b1-988e-ec405fdd7e45"
      },
      "execution_count": 56,
      "outputs": [
        {
          "output_type": "execute_result",
          "data": {
            "text/plain": [
              "(60000, 784)"
            ]
          },
          "metadata": {},
          "execution_count": 56
        }
      ]
    },
    {
      "cell_type": "code",
      "source": [
        "#convolutional autoencoder\n",
        "\n",
        "input_img=tf.keras.layers.Input(shape=(28,28,1))\n",
        "x=tf.keras.layers.Conv2D(16,(3,3), activation='relu',padding='same')(input_img)\n",
        "x=tf.keras.layers.Conv2D(8,(3,3), padding='same')(x)\n",
        "encoded=tf.keras.layers.Conv2D(8,(3,3), padding='same')(x)\n",
        "\n",
        "#decoder\n",
        "x=tf.keras.layers.Conv2D(8,(3,3), activation='relu', padding='same')(encoded)\n",
        "x=tf.keras.layers.Conv2D(8,(3,3), activation='relu', padding='same')(x)\n",
        "decoded=tf.keras.layers.Conv2D(16,(3,3), padding='same',activation='relu')(x)\n",
        "autoencoder=tf.keras.Model(input_img, decoded)"
      ],
      "metadata": {
        "id": "2d6Qh-gBRTX6"
      },
      "execution_count": 120,
      "outputs": []
    },
    {
      "cell_type": "code",
      "source": [
        "autoencoder.compile(optimizer='adam', loss='binary_crossentropy')"
      ],
      "metadata": {
        "id": "u7SO6NpKcUyA"
      },
      "execution_count": 121,
      "outputs": []
    },
    {
      "cell_type": "code",
      "source": [
        "autoencoder.summary()"
      ],
      "metadata": {
        "colab": {
          "base_uri": "https://localhost:8080/"
        },
        "id": "N7guklC7cwDe",
        "outputId": "f2d75ffb-14ba-40ea-b22a-0fececd94118"
      },
      "execution_count": 122,
      "outputs": [
        {
          "output_type": "stream",
          "name": "stdout",
          "text": [
            "Model: \"model_18\"\n",
            "_________________________________________________________________\n",
            " Layer (type)                Output Shape              Param #   \n",
            "=================================================================\n",
            " input_18 (InputLayer)       [(None, 28, 28, 1)]       0         \n",
            "                                                                 \n",
            " conv2d_15 (Conv2D)          (None, 28, 28, 16)        160       \n",
            "                                                                 \n",
            " conv2d_16 (Conv2D)          (None, 28, 28, 8)         1160      \n",
            "                                                                 \n",
            " conv2d_17 (Conv2D)          (None, 28, 28, 8)         584       \n",
            "                                                                 \n",
            " conv2d_18 (Conv2D)          (None, 28, 28, 8)         584       \n",
            "                                                                 \n",
            " conv2d_19 (Conv2D)          (None, 28, 28, 8)         584       \n",
            "                                                                 \n",
            " conv2d_20 (Conv2D)          (None, 28, 28, 16)        1168      \n",
            "                                                                 \n",
            "=================================================================\n",
            "Total params: 4240 (16.56 KB)\n",
            "Trainable params: 4240 (16.56 KB)\n",
            "Non-trainable params: 0 (0.00 Byte)\n",
            "_________________________________________________________________\n"
          ]
        }
      ]
    },
    {
      "cell_type": "code",
      "source": [
        "(x_train, _), (x_test, _) = mnist.load_data()\n",
        "\n",
        "x_train = x_train.astype('float32') / 255.\n",
        "x_test = x_test.astype('float32') / 255.\n",
        "x_train = np.reshape(x_train, (len(x_train), 28, 28, 1))\n",
        "x_test = np.reshape(x_test, (len(x_test), 28, 28, 1))"
      ],
      "metadata": {
        "id": "laVgymXIcZSY"
      },
      "execution_count": 123,
      "outputs": []
    },
    {
      "cell_type": "code",
      "source": [
        "x_train.shape"
      ],
      "metadata": {
        "colab": {
          "base_uri": "https://localhost:8080/"
        },
        "id": "mTM4iqa4cc2H",
        "outputId": "f5b95ebe-35d9-4fea-ffc4-ffba7992c239"
      },
      "execution_count": 124,
      "outputs": [
        {
          "output_type": "execute_result",
          "data": {
            "text/plain": [
              "(60000, 28, 28, 1)"
            ]
          },
          "metadata": {},
          "execution_count": 124
        }
      ]
    },
    {
      "cell_type": "code",
      "source": [
        "autoencoder.fit(x_train,x_train, epochs=50, validation_data=(x_test, x_test))"
      ],
      "metadata": {
        "colab": {
          "base_uri": "https://localhost:8080/"
        },
        "id": "u4cQr1Kpcd99",
        "outputId": "eef6c03a-2bf1-41de-82a3-ed361f6fc94c"
      },
      "execution_count": 125,
      "outputs": [
        {
          "output_type": "stream",
          "name": "stdout",
          "text": [
            "1875/1875 [==============================] - 168s 89ms/step - loss: 0.0590 - val_loss: 0.0585\n",
            "Epoch 48/50\n",
            "1875/1875 [==============================] - 160s 85ms/step - loss: 0.0590 - val_loss: 0.0582\n",
            "Epoch 49/50\n",
            "1875/1875 [==============================] - 162s 86ms/step - loss: 0.0589 - val_loss: 0.0581\n",
            "Epoch 50/50\n",
            "1875/1875 [==============================] - 157s 84ms/step - loss: 0.0590 - val_loss: 0.0584\n"
          ]
        },
        {
          "output_type": "execute_result",
          "data": {
            "text/plain": [
              "<keras.src.callbacks.History at 0x7b3c65c76980>"
            ]
          },
          "metadata": {},
          "execution_count": 125
        }
      ]
    },
    {
      "cell_type": "code",
      "source": [
        "decoded_imgs = autoencoder.predict(x_test)\n",
        "import matplotlib.pyplot as plt\n",
        "\n",
        "n = 10\n",
        "plt.figure(figsize=(20, 4))\n",
        "for i in range(1, n + 1):\n",
        "    # Display original\n",
        "    ax = plt.subplot(2, n, i)\n",
        "    plt.imshow(x_test[i].reshape(28, 28))\n",
        "    plt.gray()\n",
        "    ax.get_xaxis().set_visible(False)\n",
        "    ax.get_yaxis().set_visible(False)\n",
        "\n",
        "    # Display reconstruction\n",
        "    ax = plt.subplot(2, n, i + n)\n",
        "    plt.imshow(decoded_imgs[i].reshape(112, 112))\n",
        "    plt.gray()\n",
        "    ax.get_xaxis().set_visible(False)\n",
        "    ax.get_yaxis().set_visible(False)\n",
        "plt.show()\n"
      ],
      "metadata": {
        "colab": {
          "base_uri": "https://localhost:8080/",
          "height": 174
        },
        "id": "X7dBehv5cjWE",
        "outputId": "f688126a-14ae-4c66-c08c-ec80d222073e"
      },
      "execution_count": 128,
      "outputs": [
        {
          "output_type": "stream",
          "name": "stdout",
          "text": [
            "313/313 [==============================] - 9s 28ms/step\n"
          ]
        },
        {
          "output_type": "display_data",
          "data": {
            "text/plain": [
              "<Figure size 2000x400 with 20 Axes>"
            ],
            "image/png": "[encoded data removed]"
          },
          "metadata": {}
        }
      ]
    },
    {
      "cell_type": "code",
      "source": [],
      "metadata": {
        "id": "Kj-J2OQe8BdR"
      },
      "execution_count": null,
      "outputs": []
    }
  ]
}